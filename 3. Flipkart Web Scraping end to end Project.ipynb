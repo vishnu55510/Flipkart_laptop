{
 "cells": [
  {
   "cell_type": "markdown",
   "id": "a2935971",
   "metadata": {},
   "source": [
    "### Problem statement:\n",
    "Extracting Product Information from Flipkart Website using Web Scraping\n"
   ]
  },
  {
   "cell_type": "markdown",
   "id": "ebb84950",
   "metadata": {},
   "source": [
    "### Objective:\n",
    "Design a web scraping solution to extract essential product information from the Flipkart website. The goal is to retrieve data such as brands, price, original price, description, and URL of various products listed on Flipkart."
   ]
  },
  {
   "cell_type": "markdown",
   "id": "fdf961d5",
   "metadata": {},
   "source": [
    "### Requirements:\n",
    "\n",
    "Website: Utilize the Flipkart website (www.flipkart.com) as the data source for product information extraction.\n",
    "Data Fields: The following fields need to be extracted for each product:\n",
    "- Brand: The brand name of the product.\n",
    "- Price: The current selling price of the product.\n",
    "- Original Price: The original price of the product (if applicable, considering discounts).\n",
    "- Description: A brief description of the product.\n",
    "- URL: The URL of the product's page on Flipkart."
   ]
  },
  {
   "cell_type": "markdown",
   "id": "3856e04b",
   "metadata": {},
   "source": [
    "### Flipkart Website"
   ]
  },
  {
   "cell_type": "markdown",
   "id": "2dce5f6b",
   "metadata": {},
   "source": [
    "### Importing Necessary Libraries"
   ]
  },
  {
   "cell_type": "code",
   "execution_count": 1,
   "id": "72ded3a1",
   "metadata": {},
   "outputs": [],
   "source": [
    "import pandas as pd               \n",
    "from bs4 import BeautifulSoup     # BeautifulSoup is used to parse the text information\n",
    "import requests\n",
    "from selenium import webdriver"
   ]
  },
  {
   "cell_type": "markdown",
   "id": "209833e0",
   "metadata": {},
   "source": [
    "### Code Documentation"
   ]
  },
  {
   "cell_type": "code",
   "execution_count": 6,
   "id": "ca3dc25b",
   "metadata": {},
   "outputs": [
    {
     "name": "stdout",
     "output_type": "stream",
     "text": [
      "Enter what you want: Laptops\n"
     ]
    },
    {
     "data": {
      "text/html": [
       "<div>\n",
       "<style scoped>\n",
       "    .dataframe tbody tr th:only-of-type {\n",
       "        vertical-align: middle;\n",
       "    }\n",
       "\n",
       "    .dataframe tbody tr th {\n",
       "        vertical-align: top;\n",
       "    }\n",
       "\n",
       "    .dataframe thead th {\n",
       "        text-align: right;\n",
       "    }\n",
       "</style>\n",
       "<table border=\"1\" class=\"dataframe\">\n",
       "  <thead>\n",
       "    <tr style=\"text-align: right;\">\n",
       "      <th></th>\n",
       "      <th>brands</th>\n",
       "      <th>price</th>\n",
       "      <th>original_price</th>\n",
       "      <th>description</th>\n",
       "      <th>link</th>\n",
       "    </tr>\n",
       "  </thead>\n",
       "  <tbody>\n",
       "    <tr>\n",
       "      <th>0</th>\n",
       "      <td>ASUS Chromebook Celeron Dual Core N4020 -</td>\n",
       "      <td>13990</td>\n",
       "      <td>24990</td>\n",
       "      <td>[Intel Celeron Dual Core Processor, 4 GB LPDDR...</td>\n",
       "      <td>https://www.flipkart.com/asus-chromebook-celer...</td>\n",
       "    </tr>\n",
       "    <tr>\n",
       "      <th>1</th>\n",
       "      <td>HP 360 Intel Celeron Quad Core N4020 -</td>\n",
       "      <td>22990</td>\n",
       "      <td>31156</td>\n",
       "      <td>[Intel Celeron Quad Core Processor, 4 GB LPDDR...</td>\n",
       "      <td>https://www.flipkart.com/hp-360-intel-celeron-...</td>\n",
       "    </tr>\n",
       "    <tr>\n",
       "      <th>2</th>\n",
       "      <td>HP Laptop Core i3 11th Gen 1115G4 -</td>\n",
       "      <td>38990</td>\n",
       "      <td>49025</td>\n",
       "      <td>[Intel Core i3 Processor (11th Gen), 8 GB DDR4...</td>\n",
       "      <td>https://www.flipkart.com/hp-laptop-core-i3-11t...</td>\n",
       "    </tr>\n",
       "    <tr>\n",
       "      <th>3</th>\n",
       "      <td>Infinix INBook Y1 Plus Intel Core i3 10th Gen ...</td>\n",
       "      <td>26990</td>\n",
       "      <td>49990</td>\n",
       "      <td>[Intel Core i3 Processor (10th Gen), 8 GB LPDD...</td>\n",
       "      <td>https://www.flipkart.com/infinix-inbook-y1-plu...</td>\n",
       "    </tr>\n",
       "    <tr>\n",
       "      <th>4</th>\n",
       "      <td>Lenovo V15 Ryzen 5 Hexa Core 5500U -</td>\n",
       "      <td>34640</td>\n",
       "      <td>69525</td>\n",
       "      <td>[AMD Ryzen 5 Hexa Core Processor, 8 GB DDR4 RA...</td>\n",
       "      <td>https://www.flipkart.com/lenovo-v15-ryzen-5-he...</td>\n",
       "    </tr>\n",
       "  </tbody>\n",
       "</table>\n",
       "</div>"
      ],
      "text/plain": [
       "                                              brands  price  original_price  \\\n",
       "0         ASUS Chromebook Celeron Dual Core N4020 -   13990           24990   \n",
       "1            HP 360 Intel Celeron Quad Core N4020 -   22990           31156   \n",
       "2               HP Laptop Core i3 11th Gen 1115G4 -   38990           49025   \n",
       "3  Infinix INBook Y1 Plus Intel Core i3 10th Gen ...  26990           49990   \n",
       "4              Lenovo V15 Ryzen 5 Hexa Core 5500U -   34640           69525   \n",
       "\n",
       "                                         description  \\\n",
       "0  [Intel Celeron Dual Core Processor, 4 GB LPDDR...   \n",
       "1  [Intel Celeron Quad Core Processor, 4 GB LPDDR...   \n",
       "2  [Intel Core i3 Processor (11th Gen), 8 GB DDR4...   \n",
       "3  [Intel Core i3 Processor (10th Gen), 8 GB LPDD...   \n",
       "4  [AMD Ryzen 5 Hexa Core Processor, 8 GB DDR4 RA...   \n",
       "\n",
       "                                                link  \n",
       "0  https://www.flipkart.com/asus-chromebook-celer...  \n",
       "1  https://www.flipkart.com/hp-360-intel-celeron-...  \n",
       "2  https://www.flipkart.com/hp-laptop-core-i3-11t...  \n",
       "3  https://www.flipkart.com/infinix-inbook-y1-plu...  \n",
       "4  https://www.flipkart.com/lenovo-v15-ryzen-5-he...  "
      ]
     },
     "execution_count": 6,
     "metadata": {},
     "output_type": "execute_result"
    }
   ],
   "source": [
    "# Create a WebDriver instance (make sure you have the appropriate driver executable installed)\n",
    "driver = webdriver.Chrome()\n",
    "\n",
    "brands = []\n",
    "\n",
    "price = []\n",
    "original_price = []\n",
    "description = []\n",
    "link = []\n",
    "original_url = input('Enter what you want: ')\n",
    "\n",
    "for i in range(1,5):\n",
    "    def search_url(url):\n",
    "        template = 'https://www.flipkart.com/search?q={}&otracker=search&otracker1=search&marketplace=FLIPKART&as-show=on&as=off&page={}'\n",
    "        url = url.replace(' ','+')\n",
    "        return template.format(url,i)\n",
    "\n",
    "    driver.get(search_url(original_url))\n",
    "\n",
    "    soup = BeautifulSoup(driver.page_source, 'html.parser')\n",
    "    \n",
    "    # Brands\n",
    "    try:\n",
    "        brand = soup.find_all('div', class_='_4rR01T')\n",
    "        for a in brand:\n",
    "            brands.append(a.text.split('(')[0])\n",
    "    except AttributeError:\n",
    "        brands = ''\n",
    "\n",
    "    # Price\n",
    "    try:\n",
    "        pr = soup.find_all('div', class_='_30jeq3 _1_WHN1')\n",
    "        for b in pr:\n",
    "            price.append(int(b.text.replace('₹', '').replace(',', '')))\n",
    "    except AttributeError:\n",
    "        price.append(None)  # Append None for missing values\n",
    "\n",
    "    # Original Price\n",
    "    try:\n",
    "        orp = soup.find_all('div', class_='_3I9_wc _27UcVY')\n",
    "        for c in orp:\n",
    "            original_price.append(int(c.text.replace('₹', '').replace(',', '')))\n",
    "    except AttributeError:\n",
    "        original_price.append(None)  # Append None for missing values\n",
    "\n",
    "    # Append missing values for other lists if necessary\n",
    "    missing_count = len(brands) - len(price)\n",
    "    if missing_count > 0:\n",
    "        price.extend([None] * missing_count)\n",
    "\n",
    "    missing_count = len(brands) - len(original_price)\n",
    "    if missing_count > 0:\n",
    "        original_price.extend([None] * missing_count)\n",
    "\n",
    "\n",
    "    # Description\n",
    "    try:\n",
    "        ul = soup.find_all('ul', class_='_1xgFaf')\n",
    "        for d in ul:\n",
    "            li = d.find_all('li', class_='rgWa7D')\n",
    "            description.append([j.text for j in li])\n",
    "    except AttributeError:\n",
    "        description = ''\n",
    "\n",
    "    # Website link\n",
    "    try:\n",
    "        a_tag = soup.find_all('a', class_='_1fQZEK')\n",
    "        for i in a_tag:\n",
    "            link.append('https://www.flipkart.com' + i.get('href'))\n",
    "    except AttributeError:\n",
    "        link = ''\n",
    "        \n",
    "        \n",
    "# Data Frame\n",
    "df = pd.DataFrame()\n",
    "df['brands'] = brands\n",
    "df['price'] = price\n",
    "df['original_price'] = original_price\n",
    "df['description'] = description\n",
    "df['link'] = link\n",
    "df.head()\n",
    "\n",
    "# Close the WebDriver instance"
   ]
  },
  {
   "cell_type": "code",
   "execution_count": 3,
   "id": "5eea0dae",
   "metadata": {
    "scrolled": true
   },
   "outputs": [
    {
     "data": {
      "text/html": [
       "<div>\n",
       "<style scoped>\n",
       "    .dataframe tbody tr th:only-of-type {\n",
       "        vertical-align: middle;\n",
       "    }\n",
       "\n",
       "    .dataframe tbody tr th {\n",
       "        vertical-align: top;\n",
       "    }\n",
       "\n",
       "    .dataframe thead th {\n",
       "        text-align: right;\n",
       "    }\n",
       "</style>\n",
       "<table border=\"1\" class=\"dataframe\">\n",
       "  <thead>\n",
       "    <tr style=\"text-align: right;\">\n",
       "      <th></th>\n",
       "      <th>brands</th>\n",
       "      <th>price</th>\n",
       "      <th>original_price</th>\n",
       "      <th>description</th>\n",
       "      <th>link</th>\n",
       "    </tr>\n",
       "  </thead>\n",
       "  <tbody>\n",
       "    <tr>\n",
       "      <th>0</th>\n",
       "      <td>CHUWI Core i3 10th Gen -</td>\n",
       "      <td>23990</td>\n",
       "      <td>49990.0</td>\n",
       "      <td>[Intel Core i3 Processor (10th Gen), 8 GB DDR4...</td>\n",
       "      <td>https://www.flipkart.com/chuwi-core-i3-10th-ge...</td>\n",
       "    </tr>\n",
       "    <tr>\n",
       "      <th>1</th>\n",
       "      <td>CHUWI Celeron Dual Core 10th Gen -</td>\n",
       "      <td>16990</td>\n",
       "      <td>34990.0</td>\n",
       "      <td>[Intel Celeron Dual Core Processor (10th Gen),...</td>\n",
       "      <td>https://www.flipkart.com/chuwi-celeron-dual-co...</td>\n",
       "    </tr>\n",
       "    <tr>\n",
       "      <th>2</th>\n",
       "      <td>HP Laptop Core i3 11th Gen 1115G4 -</td>\n",
       "      <td>38990</td>\n",
       "      <td>49025.0</td>\n",
       "      <td>[Intel Core i3 Processor (11th Gen), 8 GB DDR4...</td>\n",
       "      <td>https://www.flipkart.com/hp-laptop-core-i3-11t...</td>\n",
       "    </tr>\n",
       "    <tr>\n",
       "      <th>3</th>\n",
       "      <td>Infinix INBook Y1 Plus Intel Core i3 10th Gen ...</td>\n",
       "      <td>26990</td>\n",
       "      <td>49990.0</td>\n",
       "      <td>[Intel Core i3 Processor (10th Gen), 8 GB LPDD...</td>\n",
       "      <td>https://www.flipkart.com/infinix-inbook-y1-plu...</td>\n",
       "    </tr>\n",
       "    <tr>\n",
       "      <th>4</th>\n",
       "      <td>Lenovo V15 Ryzen 5 Hexa Core 5500U -</td>\n",
       "      <td>34640</td>\n",
       "      <td>69525.0</td>\n",
       "      <td>[AMD Ryzen 5 Hexa Core Processor, 8 GB DDR4 RA...</td>\n",
       "      <td>https://www.flipkart.com/lenovo-v15-ryzen-5-he...</td>\n",
       "    </tr>\n",
       "  </tbody>\n",
       "</table>\n",
       "</div>"
      ],
      "text/plain": [
       "                                              brands  price  original_price  \\\n",
       "0                          CHUWI Core i3 10th Gen -   23990         49990.0   \n",
       "1                CHUWI Celeron Dual Core 10th Gen -   16990         34990.0   \n",
       "2               HP Laptop Core i3 11th Gen 1115G4 -   38990         49025.0   \n",
       "3  Infinix INBook Y1 Plus Intel Core i3 10th Gen ...  26990         49990.0   \n",
       "4              Lenovo V15 Ryzen 5 Hexa Core 5500U -   34640         69525.0   \n",
       "\n",
       "                                         description  \\\n",
       "0  [Intel Core i3 Processor (10th Gen), 8 GB DDR4...   \n",
       "1  [Intel Celeron Dual Core Processor (10th Gen),...   \n",
       "2  [Intel Core i3 Processor (11th Gen), 8 GB DDR4...   \n",
       "3  [Intel Core i3 Processor (10th Gen), 8 GB LPDD...   \n",
       "4  [AMD Ryzen 5 Hexa Core Processor, 8 GB DDR4 RA...   \n",
       "\n",
       "                                                link  \n",
       "0  https://www.flipkart.com/chuwi-core-i3-10th-ge...  \n",
       "1  https://www.flipkart.com/chuwi-celeron-dual-co...  \n",
       "2  https://www.flipkart.com/hp-laptop-core-i3-11t...  \n",
       "3  https://www.flipkart.com/infinix-inbook-y1-plu...  \n",
       "4  https://www.flipkart.com/lenovo-v15-ryzen-5-he...  "
      ]
     },
     "execution_count": 3,
     "metadata": {},
     "output_type": "execute_result"
    }
   ],
   "source": [
    "df.head()"
   ]
  },
  {
   "cell_type": "code",
   "execution_count": 4,
   "id": "0057a6a3",
   "metadata": {},
   "outputs": [
    {
     "data": {
      "text/html": [
       "<div>\n",
       "<style scoped>\n",
       "    .dataframe tbody tr th:only-of-type {\n",
       "        vertical-align: middle;\n",
       "    }\n",
       "\n",
       "    .dataframe tbody tr th {\n",
       "        vertical-align: top;\n",
       "    }\n",
       "\n",
       "    .dataframe thead th {\n",
       "        text-align: right;\n",
       "    }\n",
       "</style>\n",
       "<table border=\"1\" class=\"dataframe\">\n",
       "  <thead>\n",
       "    <tr style=\"text-align: right;\">\n",
       "      <th></th>\n",
       "      <th>brands</th>\n",
       "      <th>price</th>\n",
       "      <th>original_price</th>\n",
       "      <th>description</th>\n",
       "      <th>link</th>\n",
       "    </tr>\n",
       "  </thead>\n",
       "  <tbody>\n",
       "    <tr>\n",
       "      <th>0</th>\n",
       "      <td>CHUWI Core i3 10th Gen -</td>\n",
       "      <td>23990</td>\n",
       "      <td>49990.0</td>\n",
       "      <td>[Intel Core i3 Processor (10th Gen), 8 GB DDR4...</td>\n",
       "      <td>https://www.flipkart.com/chuwi-core-i3-10th-ge...</td>\n",
       "    </tr>\n",
       "    <tr>\n",
       "      <th>1</th>\n",
       "      <td>CHUWI Celeron Dual Core 10th Gen -</td>\n",
       "      <td>16990</td>\n",
       "      <td>34990.0</td>\n",
       "      <td>[Intel Celeron Dual Core Processor (10th Gen),...</td>\n",
       "      <td>https://www.flipkart.com/chuwi-celeron-dual-co...</td>\n",
       "    </tr>\n",
       "    <tr>\n",
       "      <th>2</th>\n",
       "      <td>HP Laptop Core i3 11th Gen 1115G4 -</td>\n",
       "      <td>38990</td>\n",
       "      <td>49025.0</td>\n",
       "      <td>[Intel Core i3 Processor (11th Gen), 8 GB DDR4...</td>\n",
       "      <td>https://www.flipkart.com/hp-laptop-core-i3-11t...</td>\n",
       "    </tr>\n",
       "    <tr>\n",
       "      <th>3</th>\n",
       "      <td>Infinix INBook Y1 Plus Intel Core i3 10th Gen ...</td>\n",
       "      <td>26990</td>\n",
       "      <td>49990.0</td>\n",
       "      <td>[Intel Core i3 Processor (10th Gen), 8 GB LPDD...</td>\n",
       "      <td>https://www.flipkart.com/infinix-inbook-y1-plu...</td>\n",
       "    </tr>\n",
       "    <tr>\n",
       "      <th>4</th>\n",
       "      <td>Lenovo V15 Ryzen 5 Hexa Core 5500U -</td>\n",
       "      <td>34640</td>\n",
       "      <td>69525.0</td>\n",
       "      <td>[AMD Ryzen 5 Hexa Core Processor, 8 GB DDR4 RA...</td>\n",
       "      <td>https://www.flipkart.com/lenovo-v15-ryzen-5-he...</td>\n",
       "    </tr>\n",
       "    <tr>\n",
       "      <th>...</th>\n",
       "      <td>...</td>\n",
       "      <td>...</td>\n",
       "      <td>...</td>\n",
       "      <td>...</td>\n",
       "      <td>...</td>\n",
       "    </tr>\n",
       "    <tr>\n",
       "      <th>91</th>\n",
       "      <td>HP 15s</td>\n",
       "      <td>47490</td>\n",
       "      <td>54552.0</td>\n",
       "      <td>[Intel Core i3 Processor (13th Gen), 8 GB DDR4...</td>\n",
       "      <td>https://www.flipkart.com/hp-15s-2023-intel-cor...</td>\n",
       "    </tr>\n",
       "    <tr>\n",
       "      <th>92</th>\n",
       "      <td>Infinix X3 Slim Intel Core i3 12th Gen 1215U -</td>\n",
       "      <td>34990</td>\n",
       "      <td>54990.0</td>\n",
       "      <td>[Intel Core i3 Processor (12th Gen), 8 GB LPDD...</td>\n",
       "      <td>https://www.flipkart.com/infinix-x3-slim-intel...</td>\n",
       "    </tr>\n",
       "    <tr>\n",
       "      <th>93</th>\n",
       "      <td>Acer Extensa</td>\n",
       "      <td>34990</td>\n",
       "      <td>51999.0</td>\n",
       "      <td>[Stylish &amp; Portable Thin and Light Laptop, LPD...</td>\n",
       "      <td>https://www.flipkart.com/acer-extensa-2023-ryz...</td>\n",
       "    </tr>\n",
       "    <tr>\n",
       "      <th>94</th>\n",
       "      <td>HP Intel Core i5 12th Gen 1235U -</td>\n",
       "      <td>62039</td>\n",
       "      <td>72331.0</td>\n",
       "      <td>[Intel Core i5 Processor (12th Gen), 16 GB DDR...</td>\n",
       "      <td>https://www.flipkart.com/hp-intel-core-i5-12th...</td>\n",
       "    </tr>\n",
       "    <tr>\n",
       "      <th>95</th>\n",
       "      <td>ASUS TUF Gaming A15 Ryzen 5 Hexa Core AMD R5-4...</td>\n",
       "      <td>65990</td>\n",
       "      <td>79990.0</td>\n",
       "      <td>[AMD Ryzen 5 Hexa Core Processor, 8 GB DDR4 RA...</td>\n",
       "      <td>https://www.flipkart.com/asus-tuf-gaming-a15-r...</td>\n",
       "    </tr>\n",
       "  </tbody>\n",
       "</table>\n",
       "<p>96 rows × 5 columns</p>\n",
       "</div>"
      ],
      "text/plain": [
       "                                               brands  price  original_price  \\\n",
       "0                           CHUWI Core i3 10th Gen -   23990         49990.0   \n",
       "1                 CHUWI Celeron Dual Core 10th Gen -   16990         34990.0   \n",
       "2                HP Laptop Core i3 11th Gen 1115G4 -   38990         49025.0   \n",
       "3   Infinix INBook Y1 Plus Intel Core i3 10th Gen ...  26990         49990.0   \n",
       "4               Lenovo V15 Ryzen 5 Hexa Core 5500U -   34640         69525.0   \n",
       "..                                                ...    ...             ...   \n",
       "91                                            HP 15s   47490         54552.0   \n",
       "92    Infinix X3 Slim Intel Core i3 12th Gen 1215U -   34990         54990.0   \n",
       "93                                      Acer Extensa   34990         51999.0   \n",
       "94                 HP Intel Core i5 12th Gen 1235U -   62039         72331.0   \n",
       "95  ASUS TUF Gaming A15 Ryzen 5 Hexa Core AMD R5-4...  65990         79990.0   \n",
       "\n",
       "                                          description  \\\n",
       "0   [Intel Core i3 Processor (10th Gen), 8 GB DDR4...   \n",
       "1   [Intel Celeron Dual Core Processor (10th Gen),...   \n",
       "2   [Intel Core i3 Processor (11th Gen), 8 GB DDR4...   \n",
       "3   [Intel Core i3 Processor (10th Gen), 8 GB LPDD...   \n",
       "4   [AMD Ryzen 5 Hexa Core Processor, 8 GB DDR4 RA...   \n",
       "..                                                ...   \n",
       "91  [Intel Core i3 Processor (13th Gen), 8 GB DDR4...   \n",
       "92  [Intel Core i3 Processor (12th Gen), 8 GB LPDD...   \n",
       "93  [Stylish & Portable Thin and Light Laptop, LPD...   \n",
       "94  [Intel Core i5 Processor (12th Gen), 16 GB DDR...   \n",
       "95  [AMD Ryzen 5 Hexa Core Processor, 8 GB DDR4 RA...   \n",
       "\n",
       "                                                 link  \n",
       "0   https://www.flipkart.com/chuwi-core-i3-10th-ge...  \n",
       "1   https://www.flipkart.com/chuwi-celeron-dual-co...  \n",
       "2   https://www.flipkart.com/hp-laptop-core-i3-11t...  \n",
       "3   https://www.flipkart.com/infinix-inbook-y1-plu...  \n",
       "4   https://www.flipkart.com/lenovo-v15-ryzen-5-he...  \n",
       "..                                                ...  \n",
       "91  https://www.flipkart.com/hp-15s-2023-intel-cor...  \n",
       "92  https://www.flipkart.com/infinix-x3-slim-intel...  \n",
       "93  https://www.flipkart.com/acer-extensa-2023-ryz...  \n",
       "94  https://www.flipkart.com/hp-intel-core-i5-12th...  \n",
       "95  https://www.flipkart.com/asus-tuf-gaming-a15-r...  \n",
       "\n",
       "[96 rows x 5 columns]"
      ]
     },
     "execution_count": 4,
     "metadata": {},
     "output_type": "execute_result"
    }
   ],
   "source": [
    "df"
   ]
  },
  {
   "cell_type": "code",
   "execution_count": 5,
   "id": "f45c0090",
   "metadata": {},
   "outputs": [],
   "source": [
    "df.to_csv('smart phone.csv')"
   ]
  },
  {
   "cell_type": "code",
   "execution_count": 84,
   "id": "44ebe545",
   "metadata": {},
   "outputs": [],
   "source": [
    "a=[]\n",
    "li=soup.find_all('li',class_='rgWa7D')\n",
    "for i in li:\n",
    "    if 'SSD' in i.text:\n",
    "        a.append(i.text)"
   ]
  },
  {
   "cell_type": "code",
   "execution_count": 86,
   "id": "987bf13e",
   "metadata": {},
   "outputs": [
    {
     "data": {
      "text/plain": [
       "24"
      ]
     },
     "execution_count": 86,
     "metadata": {},
     "output_type": "execute_result"
    }
   ],
   "source": [
    "len(a)"
   ]
  },
  {
   "cell_type": "code",
   "execution_count": null,
   "id": "7f1e914b",
   "metadata": {},
   "outputs": [],
   "source": [
    "a=[]\n",
    "li=soup.find_all('li',class_='rgWa7D')\n",
    "for i in li:\n",
    "    if 'SSD' in i.text:\n",
    "        a.append(i.text)"
   ]
  },
  {
   "cell_type": "code",
   "execution_count": 82,
   "id": "391686d0",
   "metadata": {},
   "outputs": [
    {
     "data": {
      "text/plain": [
       "['256 GB SSD',\n",
       " '512 GB SSD',\n",
       " '512 GB SSD',\n",
       " '512 GB SSD',\n",
       " '512 GB SSD',\n",
       " '256 GB SSD',\n",
       " '512 GB SSD',\n",
       " '512 GB SSD',\n",
       " '512 GB SSD',\n",
       " '512 GB SSD',\n",
       " '512 GB SSD',\n",
       " '512 GB SSD',\n",
       " '1 TB HDD|256 GB SSD',\n",
       " '512 GB SSD',\n",
       " '256 GB SSD',\n",
       " '512 GB SSD',\n",
       " '512 GB SSD',\n",
       " '512 GB SSD',\n",
       " '1 TB HDD|256 GB SSD',\n",
       " '256 GB SSD',\n",
       " '512 GB SSD',\n",
       " '512 GB SSD',\n",
       " '128 GB SSD',\n",
       " '512 GB SSD']"
      ]
     },
     "execution_count": 82,
     "metadata": {},
     "output_type": "execute_result"
    }
   ],
   "source": [
    "a"
   ]
  },
  {
   "cell_type": "code",
   "execution_count": 65,
   "id": "e5d154b7",
   "metadata": {},
   "outputs": [],
   "source": [
    "b=[]\n",
    "li=soup.find_all('li',class_='rgWa7D')\n",
    "for i in li:\n",
    "    if 'Operating' in i.text:\n",
    "        b.append(i.text)"
   ]
  },
  {
   "cell_type": "code",
   "execution_count": 87,
   "id": "22373b8f",
   "metadata": {},
   "outputs": [
    {
     "data": {
      "text/plain": [
       "24"
      ]
     },
     "execution_count": 87,
     "metadata": {},
     "output_type": "execute_result"
    }
   ],
   "source": [
    "len(b)"
   ]
  },
  {
   "cell_type": "code",
   "execution_count": 67,
   "id": "45168704",
   "metadata": {},
   "outputs": [],
   "source": [
    "c=[]\n",
    "li=soup.find_all('li',class_='rgWa7D')\n",
    "for i in li:\n",
    "    if 'cm' in i.text:\n",
    "        c.append(i.text)"
   ]
  },
  {
   "cell_type": "code",
   "execution_count": 88,
   "id": "21242e43",
   "metadata": {},
   "outputs": [
    {
     "data": {
      "text/plain": [
       "['35.56 cm (14 inch) Display',\n",
       " '40.89 cm (16.1 Inch) Display',\n",
       " '35.56 cm (14 Inch) Display',\n",
       " '39.62 cm (15.6 Inch) Display',\n",
       " '35.56 cm (14 Inch) Display',\n",
       " '35.56 cm (14 Inch) Display',\n",
       " '40.64 cm (16 inch) Display',\n",
       " '39.62 cm (15.6 inch) Display',\n",
       " '39.62 cm (15.6 Inch) Display',\n",
       " '35.56 cm (14 inch) Display',\n",
       " '35.56 cm (14 Inch) Display',\n",
       " '35.56 cm (14 Inch) Display',\n",
       " '39.62 cm (15.6 Inch) Display',\n",
       " '39.62 cm (15.6 inch) Display',\n",
       " '33.78 cm (13.3 inch) Display',\n",
       " '39.62 cm (15.6 inch) Display',\n",
       " '39.62 cm (15.6 Inch) Display',\n",
       " '39.62 cm (15.6 Inch) Display',\n",
       " '39.62 cm (15.6 Inch) Display',\n",
       " '35.56 cm (14 Inch) Display',\n",
       " '39.62 cm (15.6 Inch) Display',\n",
       " '35.56 cm (14 Inch) Display',\n",
       " '39.62 cm (15.6 Inch) Display',\n",
       " '39.62 cm (15.6 Inch) Display']"
      ]
     },
     "execution_count": 88,
     "metadata": {},
     "output_type": "execute_result"
    }
   ],
   "source": [
    "c"
   ]
  },
  {
   "cell_type": "code",
   "execution_count": 71,
   "id": "1739b5de",
   "metadata": {},
   "outputs": [],
   "source": [
    "R=[]\n",
    "li=soup.find_all('li',class_='rgWa7D')\n",
    "for i in li:\n",
    "    if 'RAM' in i.text:\n",
    "        R.append(i.text)"
   ]
  },
  {
   "cell_type": "code",
   "execution_count": 77,
   "id": "49c5a743",
   "metadata": {},
   "outputs": [
    {
     "data": {
      "text/plain": [
       "24"
      ]
     },
     "execution_count": 77,
     "metadata": {},
     "output_type": "execute_result"
    }
   ],
   "source": [
    "len(R)"
   ]
  },
  {
   "cell_type": "code",
   "execution_count": 78,
   "id": "ba3ea4f9",
   "metadata": {},
   "outputs": [],
   "source": [
    "P=[]\n",
    "li=soup.find_all('li',class_='rgWa7D')\n",
    "for i in li:\n",
    "    if 'Processor' in i.text:\n",
    "        P.append(i.text)"
   ]
  },
  {
   "cell_type": "code",
   "execution_count": 81,
   "id": "af44528c",
   "metadata": {
    "scrolled": true
   },
   "outputs": [
    {
     "data": {
      "text/plain": [
       "24"
      ]
     },
     "execution_count": 81,
     "metadata": {},
     "output_type": "execute_result"
    }
   ],
   "source": [
    "len(P)"
   ]
  }
 ],
 "metadata": {
  "kernelspec": {
   "display_name": "Python 3 (ipykernel)",
   "language": "python",
   "name": "python3"
  },
  "language_info": {
   "codemirror_mode": {
    "name": "ipython",
    "version": 3
   },
   "file_extension": ".py",
   "mimetype": "text/x-python",
   "name": "python",
   "nbconvert_exporter": "python",
   "pygments_lexer": "ipython3",
   "version": "3.11.5"
  }
 },
 "nbformat": 4,
 "nbformat_minor": 5
}
